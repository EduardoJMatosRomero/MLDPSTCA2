{
 "cells": [
  {
   "cell_type": "code",
   "execution_count": 1,
   "id": "83dd4185",
   "metadata": {},
   "outputs": [],
   "source": [
    "import pandas as pd\n",
    "import numpy as np"
   ]
  },
  {
   "cell_type": "markdown",
   "id": "ae5f7d4b",
   "metadata": {},
   "source": [
    "# Index\n",
    "\n",
    "1. Exploratory Data Analysis"
   ]
  },
  {
   "cell_type": "markdown",
   "id": "318f4248",
   "metadata": {},
   "source": [
    "## 1. Exploratory Data Analysis"
   ]
  },
  {
   "cell_type": "markdown",
   "id": "c0449683",
   "metadata": {},
   "source": [
    "How many categorical and numerical columns we have?"
   ]
  },
  {
   "cell_type": "code",
   "execution_count": 2,
   "id": "05ae64b2",
   "metadata": {},
   "outputs": [
    {
     "name": "stdout",
     "output_type": "stream",
     "text": [
      "<class 'pandas.core.frame.DataFrame'>\n",
      "RangeIndex: 1470 entries, 0 to 1469\n",
      "Data columns (total 35 columns):\n",
      " #   Column                    Non-Null Count  Dtype  \n",
      "---  ------                    --------------  -----  \n",
      " 0   Age                       1323 non-null   float64\n",
      " 1   Attrition                 1323 non-null   object \n",
      " 2   BusinessTravel            1323 non-null   object \n",
      " 3   DailyRate                 1323 non-null   float64\n",
      " 4   Department                1323 non-null   object \n",
      " 5   DistanceFromHome          1323 non-null   float64\n",
      " 6   Education                 1323 non-null   float64\n",
      " 7   EducationField            1323 non-null   object \n",
      " 8   EmployeeCount             1323 non-null   float64\n",
      " 9   EmployeeNumber            1323 non-null   float64\n",
      " 10  EnvironmentSatisfaction   1323 non-null   float64\n",
      " 11  Gender                    1323 non-null   object \n",
      " 12  HourlyRate                1323 non-null   float64\n",
      " 13  JobInvolvement            1323 non-null   float64\n",
      " 14  JobLevel                  1323 non-null   float64\n",
      " 15  JobRole                   1323 non-null   object \n",
      " 16  JobSatisfaction           1323 non-null   float64\n",
      " 17  MaritalStatus             1323 non-null   object \n",
      " 18  MonthlyIncome             1323 non-null   float64\n",
      " 19  MonthlyRate               1323 non-null   float64\n",
      " 20  NumCompaniesWorked        1323 non-null   float64\n",
      " 21  Over18                    1323 non-null   object \n",
      " 22  OverTime                  1323 non-null   object \n",
      " 23  PercentSalaryHike         1323 non-null   float64\n",
      " 24  PerformanceRating         1323 non-null   float64\n",
      " 25  RelationshipSatisfaction  1323 non-null   float64\n",
      " 26  StandardHours             1323 non-null   float64\n",
      " 27  StockOptionLevel          1323 non-null   float64\n",
      " 28  TotalWorkingYears         1323 non-null   float64\n",
      " 29  TrainingTimesLastYear     1323 non-null   float64\n",
      " 30  WorkLifeBalance           1323 non-null   float64\n",
      " 31  YearsAtCompany            1323 non-null   float64\n",
      " 32  YearsInCurrentRole        1323 non-null   float64\n",
      " 33  YearsSinceLastPromotion   1323 non-null   float64\n",
      " 34  YearsWithCurrManager      1323 non-null   float64\n",
      "dtypes: float64(26), object(9)\n",
      "memory usage: 402.1+ KB\n"
     ]
    }
   ],
   "source": [
    "df=pd.read_csv(\"Employee_Attrition.csv\")\n",
    "df.info()"
   ]
  },
  {
   "cell_type": "markdown",
   "id": "a7e14649",
   "metadata": {},
   "source": [
    "As we can see:\n",
    "    We have 1470 entries in total and 147 with missing values (1470-1323).\n",
    "    We have 9 categorical columns and 26 numerical ones. Ours datatypes are float and objects."
   ]
  },
  {
   "cell_type": "markdown",
   "id": "584af708",
   "metadata": {},
   "source": [
    "Columns to perform the study based on \"JobSatisfaction\" and \"PerformanceRating\""
   ]
  },
  {
   "cell_type": "markdown",
   "id": "2924e1c3",
   "metadata": {},
   "source": [
    "Entries with nun values"
   ]
  },
  {
   "cell_type": "code",
   "execution_count": 3,
   "id": "d866029f",
   "metadata": {},
   "outputs": [
    {
     "data": {
      "text/plain": [
       "Age                         147\n",
       "Attrition                   147\n",
       "BusinessTravel              147\n",
       "DailyRate                   147\n",
       "Department                  147\n",
       "DistanceFromHome            147\n",
       "Education                   147\n",
       "EducationField              147\n",
       "EmployeeCount               147\n",
       "EmployeeNumber              147\n",
       "EnvironmentSatisfaction     147\n",
       "Gender                      147\n",
       "HourlyRate                  147\n",
       "JobInvolvement              147\n",
       "JobLevel                    147\n",
       "JobRole                     147\n",
       "JobSatisfaction             147\n",
       "MaritalStatus               147\n",
       "MonthlyIncome               147\n",
       "MonthlyRate                 147\n",
       "NumCompaniesWorked          147\n",
       "Over18                      147\n",
       "OverTime                    147\n",
       "PercentSalaryHike           147\n",
       "PerformanceRating           147\n",
       "RelationshipSatisfaction    147\n",
       "StandardHours               147\n",
       "StockOptionLevel            147\n",
       "TotalWorkingYears           147\n",
       "TrainingTimesLastYear       147\n",
       "WorkLifeBalance             147\n",
       "YearsAtCompany              147\n",
       "YearsInCurrentRole          147\n",
       "YearsSinceLastPromotion     147\n",
       "YearsWithCurrManager        147\n",
       "dtype: int64"
      ]
     },
     "execution_count": 3,
     "metadata": {},
     "output_type": "execute_result"
    }
   ],
   "source": [
    "df.isnull().sum()"
   ]
  },
  {
   "cell_type": "code",
   "execution_count": 4,
   "id": "6bd3048f",
   "metadata": {},
   "outputs": [
    {
     "data": {
      "text/plain": [
       "5145"
      ]
     },
     "execution_count": 4,
     "metadata": {},
     "output_type": "execute_result"
    }
   ],
   "source": [
    "df.isnull().sum().sum()"
   ]
  },
  {
   "cell_type": "markdown",
   "id": "de6611b6",
   "metadata": {},
   "source": [
    "As we can see every column has at least 147 missing values"
   ]
  },
  {
   "cell_type": "markdown",
   "id": "a9da193b",
   "metadata": {},
   "source": [
    "Analysis of missing values"
   ]
  },
  {
   "cell_type": "markdown",
   "id": "c547343c",
   "metadata": {},
   "source": [
    "The first thing I would like to get to know if whether or not our nan values are float and np.nan or strings \"nan\"."
   ]
  },
  {
   "cell_type": "code",
   "execution_count": 5,
   "id": "afa8e752",
   "metadata": {},
   "outputs": [
    {
     "name": "stdout",
     "output_type": "stream",
     "text": [
      "Column 'Age': NaN values are of type float (numpy.nan)\n",
      "Column 'Attrition': NaN values are likely of type string ('nan')\n",
      "Column 'BusinessTravel': NaN values are likely of type string ('nan')\n",
      "Column 'DailyRate': NaN values are of type float (numpy.nan)\n",
      "Column 'Department': NaN values are likely of type string ('nan')\n",
      "Column 'DistanceFromHome': NaN values are of type float (numpy.nan)\n",
      "Column 'Education': NaN values are of type float (numpy.nan)\n",
      "Column 'EducationField': NaN values are likely of type string ('nan')\n",
      "Column 'EmployeeCount': NaN values are of type float (numpy.nan)\n",
      "Column 'EmployeeNumber': NaN values are of type float (numpy.nan)\n",
      "Column 'EnvironmentSatisfaction': NaN values are of type float (numpy.nan)\n",
      "Column 'Gender': NaN values are likely of type string ('nan')\n",
      "Column 'HourlyRate': NaN values are of type float (numpy.nan)\n",
      "Column 'JobInvolvement': NaN values are of type float (numpy.nan)\n",
      "Column 'JobLevel': NaN values are of type float (numpy.nan)\n",
      "Column 'JobRole': NaN values are likely of type string ('nan')\n",
      "Column 'JobSatisfaction': NaN values are of type float (numpy.nan)\n",
      "Column 'MaritalStatus': NaN values are likely of type string ('nan')\n",
      "Column 'MonthlyIncome': NaN values are of type float (numpy.nan)\n",
      "Column 'MonthlyRate': NaN values are of type float (numpy.nan)\n",
      "Column 'NumCompaniesWorked': NaN values are of type float (numpy.nan)\n",
      "Column 'Over18': NaN values are likely of type string ('nan')\n",
      "Column 'OverTime': NaN values are likely of type string ('nan')\n",
      "Column 'PercentSalaryHike': NaN values are of type float (numpy.nan)\n",
      "Column 'PerformanceRating': NaN values are of type float (numpy.nan)\n",
      "Column 'RelationshipSatisfaction': NaN values are of type float (numpy.nan)\n",
      "Column 'StandardHours': NaN values are of type float (numpy.nan)\n",
      "Column 'StockOptionLevel': NaN values are of type float (numpy.nan)\n",
      "Column 'TotalWorkingYears': NaN values are of type float (numpy.nan)\n",
      "Column 'TrainingTimesLastYear': NaN values are of type float (numpy.nan)\n",
      "Column 'WorkLifeBalance': NaN values are of type float (numpy.nan)\n",
      "Column 'YearsAtCompany': NaN values are of type float (numpy.nan)\n",
      "Column 'YearsInCurrentRole': NaN values are of type float (numpy.nan)\n",
      "Column 'YearsSinceLastPromotion': NaN values are of type float (numpy.nan)\n",
      "Column 'YearsWithCurrManager': NaN values are of type float (numpy.nan)\n"
     ]
    }
   ],
   "source": [
    "# Assuming df is your DataFrame\n",
    "for column in df.columns:\n",
    "    # Check if there are NaN values in the column\n",
    "    if df[column].isnull().any():\n",
    "        # Extract the first non-null value for type comparison\n",
    "        non_null_value = df[column].dropna().iloc[0]\n",
    "\n",
    "        # Check if the non-null value is of type float\n",
    "        if isinstance(non_null_value, float):\n",
    "            # If it's a float, then NaNs are likely numpy.nan (float)\n",
    "            print(f\"Column '{column}': NaN values are of type float (numpy.nan)\")\n",
    "        else:\n",
    "            # If it's not a float, then NaNs are likely of type string\n",
    "            print(f\"Column '{column}': NaN values are likely of type string ('nan')\")"
   ]
  },
  {
   "cell_type": "code",
   "execution_count": 6,
   "id": "487c0918",
   "metadata": {},
   "outputs": [],
   "source": [
    "df= df.replace(['nan'],[np.NaN])"
   ]
  },
  {
   "cell_type": "code",
   "execution_count": null,
   "id": "50135fa4",
   "metadata": {},
   "outputs": [],
   "source": []
  },
  {
   "cell_type": "code",
   "execution_count": null,
   "id": "757af9ce",
   "metadata": {},
   "outputs": [],
   "source": []
  },
  {
   "cell_type": "code",
   "execution_count": null,
   "id": "f4742bbf",
   "metadata": {},
   "outputs": [],
   "source": []
  },
  {
   "cell_type": "code",
   "execution_count": null,
   "id": "ffb3607d",
   "metadata": {},
   "outputs": [],
   "source": []
  },
  {
   "cell_type": "code",
   "execution_count": null,
   "id": "e17233ea",
   "metadata": {},
   "outputs": [],
   "source": []
  },
  {
   "cell_type": "code",
   "execution_count": null,
   "id": "346b82cf",
   "metadata": {},
   "outputs": [],
   "source": []
  },
  {
   "cell_type": "code",
   "execution_count": null,
   "id": "6b30df82",
   "metadata": {},
   "outputs": [],
   "source": []
  },
  {
   "cell_type": "code",
   "execution_count": null,
   "id": "870bf062",
   "metadata": {},
   "outputs": [],
   "source": []
  },
  {
   "cell_type": "code",
   "execution_count": null,
   "id": "e8d7d51b",
   "metadata": {},
   "outputs": [],
   "source": []
  },
  {
   "cell_type": "code",
   "execution_count": null,
   "id": "19c95424",
   "metadata": {},
   "outputs": [],
   "source": []
  },
  {
   "cell_type": "code",
   "execution_count": null,
   "id": "7b02c092",
   "metadata": {},
   "outputs": [],
   "source": []
  },
  {
   "cell_type": "code",
   "execution_count": 7,
   "id": "6473f485",
   "metadata": {},
   "outputs": [
    {
     "data": {
      "text/html": [
       "<div>\n",
       "<style scoped>\n",
       "    .dataframe tbody tr th:only-of-type {\n",
       "        vertical-align: middle;\n",
       "    }\n",
       "\n",
       "    .dataframe tbody tr th {\n",
       "        vertical-align: top;\n",
       "    }\n",
       "\n",
       "    .dataframe thead th {\n",
       "        text-align: right;\n",
       "    }\n",
       "</style>\n",
       "<table border=\"1\" class=\"dataframe\">\n",
       "  <thead>\n",
       "    <tr style=\"text-align: right;\">\n",
       "      <th></th>\n",
       "      <th>Age</th>\n",
       "      <th>Attrition</th>\n",
       "      <th>BusinessTravel</th>\n",
       "      <th>DailyRate</th>\n",
       "      <th>Department</th>\n",
       "      <th>DistanceFromHome</th>\n",
       "      <th>Education</th>\n",
       "      <th>EducationField</th>\n",
       "      <th>EmployeeCount</th>\n",
       "      <th>EmployeeNumber</th>\n",
       "      <th>...</th>\n",
       "      <th>RelationshipSatisfaction</th>\n",
       "      <th>StandardHours</th>\n",
       "      <th>StockOptionLevel</th>\n",
       "      <th>TotalWorkingYears</th>\n",
       "      <th>TrainingTimesLastYear</th>\n",
       "      <th>WorkLifeBalance</th>\n",
       "      <th>YearsAtCompany</th>\n",
       "      <th>YearsInCurrentRole</th>\n",
       "      <th>YearsSinceLastPromotion</th>\n",
       "      <th>YearsWithCurrManager</th>\n",
       "    </tr>\n",
       "  </thead>\n",
       "  <tbody>\n",
       "    <tr>\n",
       "      <th>count</th>\n",
       "      <td>1323.000000</td>\n",
       "      <td>1323</td>\n",
       "      <td>1323</td>\n",
       "      <td>1323.000000</td>\n",
       "      <td>1323</td>\n",
       "      <td>1323.000000</td>\n",
       "      <td>1323.000000</td>\n",
       "      <td>1323</td>\n",
       "      <td>1323.000000</td>\n",
       "      <td>1323.000000</td>\n",
       "      <td>...</td>\n",
       "      <td>1323.000000</td>\n",
       "      <td>1323.000000</td>\n",
       "      <td>1323.000000</td>\n",
       "      <td>1323.000000</td>\n",
       "      <td>1323.000000</td>\n",
       "      <td>1323.000000</td>\n",
       "      <td>1323.000000</td>\n",
       "      <td>1323.000000</td>\n",
       "      <td>1323.000000</td>\n",
       "      <td>1323.000000</td>\n",
       "    </tr>\n",
       "    <tr>\n",
       "      <th>unique</th>\n",
       "      <td>NaN</td>\n",
       "      <td>2</td>\n",
       "      <td>3</td>\n",
       "      <td>NaN</td>\n",
       "      <td>3</td>\n",
       "      <td>NaN</td>\n",
       "      <td>NaN</td>\n",
       "      <td>6</td>\n",
       "      <td>NaN</td>\n",
       "      <td>NaN</td>\n",
       "      <td>...</td>\n",
       "      <td>NaN</td>\n",
       "      <td>NaN</td>\n",
       "      <td>NaN</td>\n",
       "      <td>NaN</td>\n",
       "      <td>NaN</td>\n",
       "      <td>NaN</td>\n",
       "      <td>NaN</td>\n",
       "      <td>NaN</td>\n",
       "      <td>NaN</td>\n",
       "      <td>NaN</td>\n",
       "    </tr>\n",
       "    <tr>\n",
       "      <th>top</th>\n",
       "      <td>NaN</td>\n",
       "      <td>No</td>\n",
       "      <td>Travel_Rarely</td>\n",
       "      <td>NaN</td>\n",
       "      <td>Research &amp; Development</td>\n",
       "      <td>NaN</td>\n",
       "      <td>NaN</td>\n",
       "      <td>Life Sciences</td>\n",
       "      <td>NaN</td>\n",
       "      <td>NaN</td>\n",
       "      <td>...</td>\n",
       "      <td>NaN</td>\n",
       "      <td>NaN</td>\n",
       "      <td>NaN</td>\n",
       "      <td>NaN</td>\n",
       "      <td>NaN</td>\n",
       "      <td>NaN</td>\n",
       "      <td>NaN</td>\n",
       "      <td>NaN</td>\n",
       "      <td>NaN</td>\n",
       "      <td>NaN</td>\n",
       "    </tr>\n",
       "    <tr>\n",
       "      <th>freq</th>\n",
       "      <td>NaN</td>\n",
       "      <td>1065</td>\n",
       "      <td>890</td>\n",
       "      <td>NaN</td>\n",
       "      <td>824</td>\n",
       "      <td>NaN</td>\n",
       "      <td>NaN</td>\n",
       "      <td>504</td>\n",
       "      <td>NaN</td>\n",
       "      <td>NaN</td>\n",
       "      <td>...</td>\n",
       "      <td>NaN</td>\n",
       "      <td>NaN</td>\n",
       "      <td>NaN</td>\n",
       "      <td>NaN</td>\n",
       "      <td>NaN</td>\n",
       "      <td>NaN</td>\n",
       "      <td>NaN</td>\n",
       "      <td>NaN</td>\n",
       "      <td>NaN</td>\n",
       "      <td>NaN</td>\n",
       "    </tr>\n",
       "    <tr>\n",
       "      <th>mean</th>\n",
       "      <td>36.635268</td>\n",
       "      <td>NaN</td>\n",
       "      <td>NaN</td>\n",
       "      <td>802.030050</td>\n",
       "      <td>NaN</td>\n",
       "      <td>9.091097</td>\n",
       "      <td>2.923447</td>\n",
       "      <td>NaN</td>\n",
       "      <td>0.999325</td>\n",
       "      <td>1026.679166</td>\n",
       "      <td>...</td>\n",
       "      <td>2.720431</td>\n",
       "      <td>80.241313</td>\n",
       "      <td>0.814757</td>\n",
       "      <td>11.426152</td>\n",
       "      <td>2.811756</td>\n",
       "      <td>2.762825</td>\n",
       "      <td>6.933624</td>\n",
       "      <td>4.233363</td>\n",
       "      <td>2.160710</td>\n",
       "      <td>4.117695</td>\n",
       "    </tr>\n",
       "    <tr>\n",
       "      <th>std</th>\n",
       "      <td>9.882161</td>\n",
       "      <td>NaN</td>\n",
       "      <td>NaN</td>\n",
       "      <td>414.031025</td>\n",
       "      <td>NaN</td>\n",
       "      <td>8.177870</td>\n",
       "      <td>1.072203</td>\n",
       "      <td>NaN</td>\n",
       "      <td>0.099656</td>\n",
       "      <td>610.480802</td>\n",
       "      <td>...</td>\n",
       "      <td>1.115959</td>\n",
       "      <td>8.022535</td>\n",
       "      <td>0.863076</td>\n",
       "      <td>8.075870</td>\n",
       "      <td>1.329044</td>\n",
       "      <td>0.761802</td>\n",
       "      <td>6.046798</td>\n",
       "      <td>3.658111</td>\n",
       "      <td>3.221481</td>\n",
       "      <td>3.594053</td>\n",
       "    </tr>\n",
       "    <tr>\n",
       "      <th>min</th>\n",
       "      <td>14.544608</td>\n",
       "      <td>NaN</td>\n",
       "      <td>NaN</td>\n",
       "      <td>86.828045</td>\n",
       "      <td>NaN</td>\n",
       "      <td>0.750112</td>\n",
       "      <td>0.770362</td>\n",
       "      <td>NaN</td>\n",
       "      <td>0.628985</td>\n",
       "      <td>1.054148</td>\n",
       "      <td>...</td>\n",
       "      <td>0.720696</td>\n",
       "      <td>53.793059</td>\n",
       "      <td>0.000000</td>\n",
       "      <td>0.000000</td>\n",
       "      <td>0.000000</td>\n",
       "      <td>0.799138</td>\n",
       "      <td>0.000000</td>\n",
       "      <td>0.000000</td>\n",
       "      <td>0.000000</td>\n",
       "      <td>0.000000</td>\n",
       "    </tr>\n",
       "    <tr>\n",
       "      <th>25%</th>\n",
       "      <td>29.624982</td>\n",
       "      <td>NaN</td>\n",
       "      <td>NaN</td>\n",
       "      <td>456.479553</td>\n",
       "      <td>NaN</td>\n",
       "      <td>2.147069</td>\n",
       "      <td>2.122706</td>\n",
       "      <td>NaN</td>\n",
       "      <td>0.931146</td>\n",
       "      <td>501.854842</td>\n",
       "      <td>...</td>\n",
       "      <td>1.909010</td>\n",
       "      <td>74.882946</td>\n",
       "      <td>0.000000</td>\n",
       "      <td>5.953221</td>\n",
       "      <td>1.967328</td>\n",
       "      <td>2.193390</td>\n",
       "      <td>2.673269</td>\n",
       "      <td>1.824392</td>\n",
       "      <td>0.000000</td>\n",
       "      <td>1.687177</td>\n",
       "    </tr>\n",
       "    <tr>\n",
       "      <th>50%</th>\n",
       "      <td>34.951950</td>\n",
       "      <td>NaN</td>\n",
       "      <td>NaN</td>\n",
       "      <td>782.958705</td>\n",
       "      <td>NaN</td>\n",
       "      <td>6.920808</td>\n",
       "      <td>3.015658</td>\n",
       "      <td>NaN</td>\n",
       "      <td>0.998949</td>\n",
       "      <td>1022.025017</td>\n",
       "      <td>...</td>\n",
       "      <td>2.891235</td>\n",
       "      <td>80.351400</td>\n",
       "      <td>0.913651</td>\n",
       "      <td>9.306742</td>\n",
       "      <td>2.690934</td>\n",
       "      <td>2.899807</td>\n",
       "      <td>5.422160</td>\n",
       "      <td>2.968874</td>\n",
       "      <td>0.967140</td>\n",
       "      <td>2.939240</td>\n",
       "    </tr>\n",
       "    <tr>\n",
       "      <th>75%</th>\n",
       "      <td>42.748741</td>\n",
       "      <td>NaN</td>\n",
       "      <td>NaN</td>\n",
       "      <td>1130.577949</td>\n",
       "      <td>NaN</td>\n",
       "      <td>13.584900</td>\n",
       "      <td>3.700560</td>\n",
       "      <td>NaN</td>\n",
       "      <td>1.067371</td>\n",
       "      <td>1533.811096</td>\n",
       "      <td>...</td>\n",
       "      <td>3.639961</td>\n",
       "      <td>85.664169</td>\n",
       "      <td>1.082523</td>\n",
       "      <td>15.324548</td>\n",
       "      <td>3.366949</td>\n",
       "      <td>3.206117</td>\n",
       "      <td>9.238005</td>\n",
       "      <td>7.052591</td>\n",
       "      <td>2.586631</td>\n",
       "      <td>6.987964</td>\n",
       "    </tr>\n",
       "    <tr>\n",
       "      <th>max</th>\n",
       "      <td>69.402515</td>\n",
       "      <td>NaN</td>\n",
       "      <td>NaN</td>\n",
       "      <td>1784.394456</td>\n",
       "      <td>NaN</td>\n",
       "      <td>33.684424</td>\n",
       "      <td>6.285161</td>\n",
       "      <td>NaN</td>\n",
       "      <td>1.290613</td>\n",
       "      <td>2530.919375</td>\n",
       "      <td>...</td>\n",
       "      <td>5.092280</td>\n",
       "      <td>107.378705</td>\n",
       "      <td>3.474319</td>\n",
       "      <td>47.641892</td>\n",
       "      <td>7.503201</td>\n",
       "      <td>4.856086</td>\n",
       "      <td>36.848408</td>\n",
       "      <td>19.091844</td>\n",
       "      <td>17.273662</td>\n",
       "      <td>19.976003</td>\n",
       "    </tr>\n",
       "  </tbody>\n",
       "</table>\n",
       "<p>11 rows × 35 columns</p>\n",
       "</div>"
      ],
      "text/plain": [
       "                Age Attrition BusinessTravel    DailyRate  \\\n",
       "count   1323.000000      1323           1323  1323.000000   \n",
       "unique          NaN         2              3          NaN   \n",
       "top             NaN        No  Travel_Rarely          NaN   \n",
       "freq            NaN      1065            890          NaN   \n",
       "mean      36.635268       NaN            NaN   802.030050   \n",
       "std        9.882161       NaN            NaN   414.031025   \n",
       "min       14.544608       NaN            NaN    86.828045   \n",
       "25%       29.624982       NaN            NaN   456.479553   \n",
       "50%       34.951950       NaN            NaN   782.958705   \n",
       "75%       42.748741       NaN            NaN  1130.577949   \n",
       "max       69.402515       NaN            NaN  1784.394456   \n",
       "\n",
       "                    Department  DistanceFromHome    Education EducationField  \\\n",
       "count                     1323       1323.000000  1323.000000           1323   \n",
       "unique                       3               NaN          NaN              6   \n",
       "top     Research & Development               NaN          NaN  Life Sciences   \n",
       "freq                       824               NaN          NaN            504   \n",
       "mean                       NaN          9.091097     2.923447            NaN   \n",
       "std                        NaN          8.177870     1.072203            NaN   \n",
       "min                        NaN          0.750112     0.770362            NaN   \n",
       "25%                        NaN          2.147069     2.122706            NaN   \n",
       "50%                        NaN          6.920808     3.015658            NaN   \n",
       "75%                        NaN         13.584900     3.700560            NaN   \n",
       "max                        NaN         33.684424     6.285161            NaN   \n",
       "\n",
       "        EmployeeCount  EmployeeNumber  ...  RelationshipSatisfaction  \\\n",
       "count     1323.000000     1323.000000  ...               1323.000000   \n",
       "unique            NaN             NaN  ...                       NaN   \n",
       "top               NaN             NaN  ...                       NaN   \n",
       "freq              NaN             NaN  ...                       NaN   \n",
       "mean         0.999325     1026.679166  ...                  2.720431   \n",
       "std          0.099656      610.480802  ...                  1.115959   \n",
       "min          0.628985        1.054148  ...                  0.720696   \n",
       "25%          0.931146      501.854842  ...                  1.909010   \n",
       "50%          0.998949     1022.025017  ...                  2.891235   \n",
       "75%          1.067371     1533.811096  ...                  3.639961   \n",
       "max          1.290613     2530.919375  ...                  5.092280   \n",
       "\n",
       "       StandardHours  StockOptionLevel  TotalWorkingYears  \\\n",
       "count    1323.000000       1323.000000        1323.000000   \n",
       "unique           NaN               NaN                NaN   \n",
       "top              NaN               NaN                NaN   \n",
       "freq             NaN               NaN                NaN   \n",
       "mean       80.241313          0.814757          11.426152   \n",
       "std         8.022535          0.863076           8.075870   \n",
       "min        53.793059          0.000000           0.000000   \n",
       "25%        74.882946          0.000000           5.953221   \n",
       "50%        80.351400          0.913651           9.306742   \n",
       "75%        85.664169          1.082523          15.324548   \n",
       "max       107.378705          3.474319          47.641892   \n",
       "\n",
       "        TrainingTimesLastYear WorkLifeBalance  YearsAtCompany  \\\n",
       "count             1323.000000     1323.000000     1323.000000   \n",
       "unique                    NaN             NaN             NaN   \n",
       "top                       NaN             NaN             NaN   \n",
       "freq                      NaN             NaN             NaN   \n",
       "mean                 2.811756        2.762825        6.933624   \n",
       "std                  1.329044        0.761802        6.046798   \n",
       "min                  0.000000        0.799138        0.000000   \n",
       "25%                  1.967328        2.193390        2.673269   \n",
       "50%                  2.690934        2.899807        5.422160   \n",
       "75%                  3.366949        3.206117        9.238005   \n",
       "max                  7.503201        4.856086       36.848408   \n",
       "\n",
       "       YearsInCurrentRole  YearsSinceLastPromotion  YearsWithCurrManager  \n",
       "count         1323.000000              1323.000000           1323.000000  \n",
       "unique                NaN                      NaN                   NaN  \n",
       "top                   NaN                      NaN                   NaN  \n",
       "freq                  NaN                      NaN                   NaN  \n",
       "mean             4.233363                 2.160710              4.117695  \n",
       "std              3.658111                 3.221481              3.594053  \n",
       "min              0.000000                 0.000000              0.000000  \n",
       "25%              1.824392                 0.000000              1.687177  \n",
       "50%              2.968874                 0.967140              2.939240  \n",
       "75%              7.052591                 2.586631              6.987964  \n",
       "max             19.091844                17.273662             19.976003  \n",
       "\n",
       "[11 rows x 35 columns]"
      ]
     },
     "execution_count": 7,
     "metadata": {},
     "output_type": "execute_result"
    }
   ],
   "source": [
    "df.describe(include='all')"
   ]
  },
  {
   "cell_type": "markdown",
   "id": "b9689e09",
   "metadata": {},
   "source": [
    "Statisitical description of categorical columns?"
   ]
  },
  {
   "cell_type": "code",
   "execution_count": 8,
   "id": "bfdc9590",
   "metadata": {},
   "outputs": [
    {
     "data": {
      "text/html": [
       "<div>\n",
       "<style scoped>\n",
       "    .dataframe tbody tr th:only-of-type {\n",
       "        vertical-align: middle;\n",
       "    }\n",
       "\n",
       "    .dataframe tbody tr th {\n",
       "        vertical-align: top;\n",
       "    }\n",
       "\n",
       "    .dataframe thead th {\n",
       "        text-align: right;\n",
       "    }\n",
       "</style>\n",
       "<table border=\"1\" class=\"dataframe\">\n",
       "  <thead>\n",
       "    <tr style=\"text-align: right;\">\n",
       "      <th></th>\n",
       "      <th>Attrition</th>\n",
       "      <th>BusinessTravel</th>\n",
       "      <th>Department</th>\n",
       "      <th>EducationField</th>\n",
       "      <th>Gender</th>\n",
       "      <th>JobRole</th>\n",
       "      <th>MaritalStatus</th>\n",
       "      <th>Over18</th>\n",
       "      <th>OverTime</th>\n",
       "    </tr>\n",
       "  </thead>\n",
       "  <tbody>\n",
       "    <tr>\n",
       "      <th>count</th>\n",
       "      <td>1323</td>\n",
       "      <td>1323</td>\n",
       "      <td>1323</td>\n",
       "      <td>1323</td>\n",
       "      <td>1323</td>\n",
       "      <td>1323</td>\n",
       "      <td>1323</td>\n",
       "      <td>1323</td>\n",
       "      <td>1323</td>\n",
       "    </tr>\n",
       "    <tr>\n",
       "      <th>unique</th>\n",
       "      <td>2</td>\n",
       "      <td>3</td>\n",
       "      <td>3</td>\n",
       "      <td>6</td>\n",
       "      <td>2</td>\n",
       "      <td>9</td>\n",
       "      <td>3</td>\n",
       "      <td>1</td>\n",
       "      <td>2</td>\n",
       "    </tr>\n",
       "    <tr>\n",
       "      <th>top</th>\n",
       "      <td>No</td>\n",
       "      <td>Travel_Rarely</td>\n",
       "      <td>Research &amp; Development</td>\n",
       "      <td>Life Sciences</td>\n",
       "      <td>Male</td>\n",
       "      <td>Sales Executive</td>\n",
       "      <td>Married</td>\n",
       "      <td>Y</td>\n",
       "      <td>No</td>\n",
       "    </tr>\n",
       "    <tr>\n",
       "      <th>freq</th>\n",
       "      <td>1065</td>\n",
       "      <td>890</td>\n",
       "      <td>824</td>\n",
       "      <td>504</td>\n",
       "      <td>783</td>\n",
       "      <td>281</td>\n",
       "      <td>596</td>\n",
       "      <td>1323</td>\n",
       "      <td>929</td>\n",
       "    </tr>\n",
       "  </tbody>\n",
       "</table>\n",
       "</div>"
      ],
      "text/plain": [
       "       Attrition BusinessTravel              Department EducationField Gender  \\\n",
       "count       1323           1323                    1323           1323   1323   \n",
       "unique         2              3                       3              6      2   \n",
       "top           No  Travel_Rarely  Research & Development  Life Sciences   Male   \n",
       "freq        1065            890                     824            504    783   \n",
       "\n",
       "                JobRole MaritalStatus Over18 OverTime  \n",
       "count              1323          1323   1323     1323  \n",
       "unique                9             3      1        2  \n",
       "top     Sales Executive       Married      Y       No  \n",
       "freq                281           596   1323      929  "
      ]
     },
     "execution_count": 8,
     "metadata": {},
     "output_type": "execute_result"
    }
   ],
   "source": [
    "df.describe(include=\"O\")"
   ]
  },
  {
   "cell_type": "code",
   "execution_count": 9,
   "id": "8fac9501",
   "metadata": {
    "scrolled": true
   },
   "outputs": [
    {
     "data": {
      "text/plain": [
       "Travel_Rarely        890\n",
       "Travel_Frequently    279\n",
       "Non-Travel           154\n",
       "Name: BusinessTravel, dtype: int64"
      ]
     },
     "execution_count": 9,
     "metadata": {},
     "output_type": "execute_result"
    }
   ],
   "source": [
    "df['BusinessTravel'].value_counts()"
   ]
  },
  {
   "cell_type": "code",
   "execution_count": 10,
   "id": "14bd87c2",
   "metadata": {},
   "outputs": [
    {
     "data": {
      "text/plain": [
       "No     929\n",
       "Yes    394\n",
       "Name: OverTime, dtype: int64"
      ]
     },
     "execution_count": 10,
     "metadata": {},
     "output_type": "execute_result"
    }
   ],
   "source": [
    "df['OverTime'].value_counts()"
   ]
  },
  {
   "cell_type": "code",
   "execution_count": 11,
   "id": "bd349865",
   "metadata": {
    "scrolled": true
   },
   "outputs": [
    {
     "data": {
      "text/plain": [
       "No     1065\n",
       "Yes     258\n",
       "Name: Attrition, dtype: int64"
      ]
     },
     "execution_count": 11,
     "metadata": {},
     "output_type": "execute_result"
    }
   ],
   "source": [
    "df['Attrition'].value_counts()"
   ]
  },
  {
   "cell_type": "code",
   "execution_count": 12,
   "id": "aec80069",
   "metadata": {},
   "outputs": [
    {
     "data": {
      "text/plain": [
       "Research & Development    824\n",
       "Sales                     393\n",
       "Human Resources           106\n",
       "Name: Department, dtype: int64"
      ]
     },
     "execution_count": 12,
     "metadata": {},
     "output_type": "execute_result"
    }
   ],
   "source": [
    "df['Department'].value_counts()"
   ]
  },
  {
   "cell_type": "code",
   "execution_count": 13,
   "id": "967798bb",
   "metadata": {},
   "outputs": [
    {
     "data": {
      "text/plain": [
       "Life Sciences       504\n",
       "Medical             397\n",
       "Marketing           149\n",
       "Technical Degree    141\n",
       "Other                83\n",
       "Human Resources      49\n",
       "Name: EducationField, dtype: int64"
      ]
     },
     "execution_count": 13,
     "metadata": {},
     "output_type": "execute_result"
    }
   ],
   "source": [
    "df['EducationField'].value_counts()"
   ]
  },
  {
   "cell_type": "code",
   "execution_count": 14,
   "id": "a26471e4",
   "metadata": {},
   "outputs": [
    {
     "data": {
      "text/plain": [
       "Male      783\n",
       "Female    540\n",
       "Name: Gender, dtype: int64"
      ]
     },
     "execution_count": 14,
     "metadata": {},
     "output_type": "execute_result"
    }
   ],
   "source": [
    "df['Gender'].value_counts()"
   ]
  },
  {
   "cell_type": "code",
   "execution_count": 15,
   "id": "1b31c538",
   "metadata": {},
   "outputs": [
    {
     "data": {
      "text/plain": [
       "Sales Executive              281\n",
       "Research Scientist           257\n",
       "Laboratory Technician        229\n",
       "Manufacturing Director       122\n",
       "Healthcare Representative    118\n",
       "Manager                      101\n",
       "Research Director             80\n",
       "Sales Representative          75\n",
       "Human Resources               60\n",
       "Name: JobRole, dtype: int64"
      ]
     },
     "execution_count": 15,
     "metadata": {},
     "output_type": "execute_result"
    }
   ],
   "source": [
    "df['JobRole'].value_counts()"
   ]
  },
  {
   "cell_type": "code",
   "execution_count": 16,
   "id": "a09348fc",
   "metadata": {},
   "outputs": [
    {
     "data": {
      "text/plain": [
       "Y    1323\n",
       "Name: Over18, dtype: int64"
      ]
     },
     "execution_count": 16,
     "metadata": {},
     "output_type": "execute_result"
    }
   ],
   "source": [
    "df['Over18'].value_counts()"
   ]
  },
  {
   "cell_type": "code",
   "execution_count": 17,
   "id": "1302dc4e",
   "metadata": {},
   "outputs": [
    {
     "data": {
      "text/plain": [
       "Married     596\n",
       "Single      429\n",
       "Divorced    298\n",
       "Name: MaritalStatus, dtype: int64"
      ]
     },
     "execution_count": 17,
     "metadata": {},
     "output_type": "execute_result"
    }
   ],
   "source": [
    "df['MaritalStatus'].value_counts()"
   ]
  },
  {
   "cell_type": "markdown",
   "id": "e3e3b724",
   "metadata": {},
   "source": [
    "Statisitical description of numerical columns?"
   ]
  },
  {
   "cell_type": "code",
   "execution_count": 18,
   "id": "0af438ac",
   "metadata": {},
   "outputs": [
    {
     "data": {
      "text/html": [
       "<div>\n",
       "<style scoped>\n",
       "    .dataframe tbody tr th:only-of-type {\n",
       "        vertical-align: middle;\n",
       "    }\n",
       "\n",
       "    .dataframe tbody tr th {\n",
       "        vertical-align: top;\n",
       "    }\n",
       "\n",
       "    .dataframe thead th {\n",
       "        text-align: right;\n",
       "    }\n",
       "</style>\n",
       "<table border=\"1\" class=\"dataframe\">\n",
       "  <thead>\n",
       "    <tr style=\"text-align: right;\">\n",
       "      <th></th>\n",
       "      <th>Age</th>\n",
       "      <th>DailyRate</th>\n",
       "      <th>DistanceFromHome</th>\n",
       "      <th>Education</th>\n",
       "      <th>EmployeeCount</th>\n",
       "      <th>EmployeeNumber</th>\n",
       "      <th>EnvironmentSatisfaction</th>\n",
       "      <th>HourlyRate</th>\n",
       "      <th>JobInvolvement</th>\n",
       "      <th>JobLevel</th>\n",
       "      <th>...</th>\n",
       "      <th>RelationshipSatisfaction</th>\n",
       "      <th>StandardHours</th>\n",
       "      <th>StockOptionLevel</th>\n",
       "      <th>TotalWorkingYears</th>\n",
       "      <th>TrainingTimesLastYear</th>\n",
       "      <th>WorkLifeBalance</th>\n",
       "      <th>YearsAtCompany</th>\n",
       "      <th>YearsInCurrentRole</th>\n",
       "      <th>YearsSinceLastPromotion</th>\n",
       "      <th>YearsWithCurrManager</th>\n",
       "    </tr>\n",
       "  </thead>\n",
       "  <tbody>\n",
       "    <tr>\n",
       "      <th>count</th>\n",
       "      <td>1323.000000</td>\n",
       "      <td>1323.000000</td>\n",
       "      <td>1323.000000</td>\n",
       "      <td>1323.000000</td>\n",
       "      <td>1323.000000</td>\n",
       "      <td>1323.000000</td>\n",
       "      <td>1323.000000</td>\n",
       "      <td>1323.000000</td>\n",
       "      <td>1323.000000</td>\n",
       "      <td>1323.000000</td>\n",
       "      <td>...</td>\n",
       "      <td>1323.000000</td>\n",
       "      <td>1323.000000</td>\n",
       "      <td>1323.000000</td>\n",
       "      <td>1323.000000</td>\n",
       "      <td>1323.000000</td>\n",
       "      <td>1323.000000</td>\n",
       "      <td>1323.000000</td>\n",
       "      <td>1323.000000</td>\n",
       "      <td>1323.000000</td>\n",
       "      <td>1323.000000</td>\n",
       "    </tr>\n",
       "    <tr>\n",
       "      <th>mean</th>\n",
       "      <td>36.635268</td>\n",
       "      <td>802.030050</td>\n",
       "      <td>9.091097</td>\n",
       "      <td>2.923447</td>\n",
       "      <td>0.999325</td>\n",
       "      <td>1026.679166</td>\n",
       "      <td>2.726443</td>\n",
       "      <td>65.647722</td>\n",
       "      <td>2.743028</td>\n",
       "      <td>2.058270</td>\n",
       "      <td>...</td>\n",
       "      <td>2.720431</td>\n",
       "      <td>80.241313</td>\n",
       "      <td>0.814757</td>\n",
       "      <td>11.426152</td>\n",
       "      <td>2.811756</td>\n",
       "      <td>2.762825</td>\n",
       "      <td>6.933624</td>\n",
       "      <td>4.233363</td>\n",
       "      <td>2.160710</td>\n",
       "      <td>4.117695</td>\n",
       "    </tr>\n",
       "    <tr>\n",
       "      <th>std</th>\n",
       "      <td>9.882161</td>\n",
       "      <td>414.031025</td>\n",
       "      <td>8.177870</td>\n",
       "      <td>1.072203</td>\n",
       "      <td>0.099656</td>\n",
       "      <td>610.480802</td>\n",
       "      <td>1.129679</td>\n",
       "      <td>21.469709</td>\n",
       "      <td>0.765568</td>\n",
       "      <td>1.127018</td>\n",
       "      <td>...</td>\n",
       "      <td>1.115959</td>\n",
       "      <td>8.022535</td>\n",
       "      <td>0.863076</td>\n",
       "      <td>8.075870</td>\n",
       "      <td>1.329044</td>\n",
       "      <td>0.761802</td>\n",
       "      <td>6.046798</td>\n",
       "      <td>3.658111</td>\n",
       "      <td>3.221481</td>\n",
       "      <td>3.594053</td>\n",
       "    </tr>\n",
       "    <tr>\n",
       "      <th>min</th>\n",
       "      <td>14.544608</td>\n",
       "      <td>86.828045</td>\n",
       "      <td>0.750112</td>\n",
       "      <td>0.770362</td>\n",
       "      <td>0.628985</td>\n",
       "      <td>1.054148</td>\n",
       "      <td>0.759655</td>\n",
       "      <td>23.855272</td>\n",
       "      <td>0.722008</td>\n",
       "      <td>0.715172</td>\n",
       "      <td>...</td>\n",
       "      <td>0.720696</td>\n",
       "      <td>53.793059</td>\n",
       "      <td>0.000000</td>\n",
       "      <td>0.000000</td>\n",
       "      <td>0.000000</td>\n",
       "      <td>0.799138</td>\n",
       "      <td>0.000000</td>\n",
       "      <td>0.000000</td>\n",
       "      <td>0.000000</td>\n",
       "      <td>0.000000</td>\n",
       "    </tr>\n",
       "    <tr>\n",
       "      <th>25%</th>\n",
       "      <td>29.624982</td>\n",
       "      <td>456.479553</td>\n",
       "      <td>2.147069</td>\n",
       "      <td>2.122706</td>\n",
       "      <td>0.931146</td>\n",
       "      <td>501.854842</td>\n",
       "      <td>1.894818</td>\n",
       "      <td>47.701897</td>\n",
       "      <td>2.177638</td>\n",
       "      <td>1.045228</td>\n",
       "      <td>...</td>\n",
       "      <td>1.909010</td>\n",
       "      <td>74.882946</td>\n",
       "      <td>0.000000</td>\n",
       "      <td>5.953221</td>\n",
       "      <td>1.967328</td>\n",
       "      <td>2.193390</td>\n",
       "      <td>2.673269</td>\n",
       "      <td>1.824392</td>\n",
       "      <td>0.000000</td>\n",
       "      <td>1.687177</td>\n",
       "    </tr>\n",
       "    <tr>\n",
       "      <th>50%</th>\n",
       "      <td>34.951950</td>\n",
       "      <td>782.958705</td>\n",
       "      <td>6.920808</td>\n",
       "      <td>3.015658</td>\n",
       "      <td>0.998949</td>\n",
       "      <td>1022.025017</td>\n",
       "      <td>2.887313</td>\n",
       "      <td>64.934490</td>\n",
       "      <td>2.859143</td>\n",
       "      <td>1.936150</td>\n",
       "      <td>...</td>\n",
       "      <td>2.891235</td>\n",
       "      <td>80.351400</td>\n",
       "      <td>0.913651</td>\n",
       "      <td>9.306742</td>\n",
       "      <td>2.690934</td>\n",
       "      <td>2.899807</td>\n",
       "      <td>5.422160</td>\n",
       "      <td>2.968874</td>\n",
       "      <td>0.967140</td>\n",
       "      <td>2.939240</td>\n",
       "    </tr>\n",
       "    <tr>\n",
       "      <th>75%</th>\n",
       "      <td>42.748741</td>\n",
       "      <td>1130.577949</td>\n",
       "      <td>13.584900</td>\n",
       "      <td>3.700560</td>\n",
       "      <td>1.067371</td>\n",
       "      <td>1533.811096</td>\n",
       "      <td>3.676600</td>\n",
       "      <td>83.038355</td>\n",
       "      <td>3.179128</td>\n",
       "      <td>2.609707</td>\n",
       "      <td>...</td>\n",
       "      <td>3.639961</td>\n",
       "      <td>85.664169</td>\n",
       "      <td>1.082523</td>\n",
       "      <td>15.324548</td>\n",
       "      <td>3.366949</td>\n",
       "      <td>3.206117</td>\n",
       "      <td>9.238005</td>\n",
       "      <td>7.052591</td>\n",
       "      <td>2.586631</td>\n",
       "      <td>6.987964</td>\n",
       "    </tr>\n",
       "    <tr>\n",
       "      <th>max</th>\n",
       "      <td>69.402515</td>\n",
       "      <td>1784.394456</td>\n",
       "      <td>33.684424</td>\n",
       "      <td>6.285161</td>\n",
       "      <td>1.290613</td>\n",
       "      <td>2530.919375</td>\n",
       "      <td>5.254672</td>\n",
       "      <td>123.200439</td>\n",
       "      <td>5.241968</td>\n",
       "      <td>5.942269</td>\n",
       "      <td>...</td>\n",
       "      <td>5.092280</td>\n",
       "      <td>107.378705</td>\n",
       "      <td>3.474319</td>\n",
       "      <td>47.641892</td>\n",
       "      <td>7.503201</td>\n",
       "      <td>4.856086</td>\n",
       "      <td>36.848408</td>\n",
       "      <td>19.091844</td>\n",
       "      <td>17.273662</td>\n",
       "      <td>19.976003</td>\n",
       "    </tr>\n",
       "  </tbody>\n",
       "</table>\n",
       "<p>8 rows × 26 columns</p>\n",
       "</div>"
      ],
      "text/plain": [
       "               Age    DailyRate  DistanceFromHome    Education  EmployeeCount  \\\n",
       "count  1323.000000  1323.000000       1323.000000  1323.000000    1323.000000   \n",
       "mean     36.635268   802.030050          9.091097     2.923447       0.999325   \n",
       "std       9.882161   414.031025          8.177870     1.072203       0.099656   \n",
       "min      14.544608    86.828045          0.750112     0.770362       0.628985   \n",
       "25%      29.624982   456.479553          2.147069     2.122706       0.931146   \n",
       "50%      34.951950   782.958705          6.920808     3.015658       0.998949   \n",
       "75%      42.748741  1130.577949         13.584900     3.700560       1.067371   \n",
       "max      69.402515  1784.394456         33.684424     6.285161       1.290613   \n",
       "\n",
       "       EmployeeNumber  EnvironmentSatisfaction   HourlyRate  JobInvolvement  \\\n",
       "count     1323.000000              1323.000000  1323.000000     1323.000000   \n",
       "mean      1026.679166                 2.726443    65.647722        2.743028   \n",
       "std        610.480802                 1.129679    21.469709        0.765568   \n",
       "min          1.054148                 0.759655    23.855272        0.722008   \n",
       "25%        501.854842                 1.894818    47.701897        2.177638   \n",
       "50%       1022.025017                 2.887313    64.934490        2.859143   \n",
       "75%       1533.811096                 3.676600    83.038355        3.179128   \n",
       "max       2530.919375                 5.254672   123.200439        5.241968   \n",
       "\n",
       "          JobLevel  ...  RelationshipSatisfaction  StandardHours  \\\n",
       "count  1323.000000  ...               1323.000000    1323.000000   \n",
       "mean      2.058270  ...                  2.720431      80.241313   \n",
       "std       1.127018  ...                  1.115959       8.022535   \n",
       "min       0.715172  ...                  0.720696      53.793059   \n",
       "25%       1.045228  ...                  1.909010      74.882946   \n",
       "50%       1.936150  ...                  2.891235      80.351400   \n",
       "75%       2.609707  ...                  3.639961      85.664169   \n",
       "max       5.942269  ...                  5.092280     107.378705   \n",
       "\n",
       "       StockOptionLevel  TotalWorkingYears  TrainingTimesLastYear  \\\n",
       "count       1323.000000        1323.000000            1323.000000   \n",
       "mean           0.814757          11.426152               2.811756   \n",
       "std            0.863076           8.075870               1.329044   \n",
       "min            0.000000           0.000000               0.000000   \n",
       "25%            0.000000           5.953221               1.967328   \n",
       "50%            0.913651           9.306742               2.690934   \n",
       "75%            1.082523          15.324548               3.366949   \n",
       "max            3.474319          47.641892               7.503201   \n",
       "\n",
       "       WorkLifeBalance  YearsAtCompany  YearsInCurrentRole  \\\n",
       "count      1323.000000     1323.000000         1323.000000   \n",
       "mean          2.762825        6.933624            4.233363   \n",
       "std           0.761802        6.046798            3.658111   \n",
       "min           0.799138        0.000000            0.000000   \n",
       "25%           2.193390        2.673269            1.824392   \n",
       "50%           2.899807        5.422160            2.968874   \n",
       "75%           3.206117        9.238005            7.052591   \n",
       "max           4.856086       36.848408           19.091844   \n",
       "\n",
       "       YearsSinceLastPromotion  YearsWithCurrManager  \n",
       "count              1323.000000           1323.000000  \n",
       "mean                  2.160710              4.117695  \n",
       "std                   3.221481              3.594053  \n",
       "min                   0.000000              0.000000  \n",
       "25%                   0.000000              1.687177  \n",
       "50%                   0.967140              2.939240  \n",
       "75%                   2.586631              6.987964  \n",
       "max                  17.273662             19.976003  \n",
       "\n",
       "[8 rows x 26 columns]"
      ]
     },
     "execution_count": 18,
     "metadata": {},
     "output_type": "execute_result"
    }
   ],
   "source": [
    "df.describe()"
   ]
  },
  {
   "cell_type": "markdown",
   "id": "af45ec2d",
   "metadata": {},
   "source": [
    "References"
   ]
  },
  {
   "cell_type": "markdown",
   "id": "a40a4563",
   "metadata": {},
   "source": [
    "Stack Overflow. (n.d.). Pandas not recognizing NaN as null. [online] Available at: https://stackoverflow.com/questions/30604893/pandas-not-recognizing-nan-as-null [Accessed 28 Dec. 2023]."
   ]
  },
  {
   "cell_type": "markdown",
   "id": "1252073c",
   "metadata": {},
   "source": [
    "pandas.pydata.org. (n.d.). pandas.isnull — pandas 1.4.2 documentation. [online] Available at: https://pandas.pydata.org/docs/reference/api/pandas.isnull.html."
   ]
  },
  {
   "cell_type": "markdown",
   "id": "0988196d",
   "metadata": {},
   "source": [
    "note.nkmk.me. (2023). pandas: Find rows/columns with NaN (missing values) | note.nkmk.me. [online] Available at: https://note.nkmk.me/en/python-pandas-nan-extract/ [Accessed 28 Dec. 2023]."
   ]
  },
  {
   "cell_type": "markdown",
   "id": "228b35dd",
   "metadata": {},
   "source": [
    "saturncloud.io. (2023). How to Check if a Single Cell Value is NaN in Pandas | Saturn Cloud Blog. [online] Available at: https://saturncloud.io/blog/how-to-check-if-a-single-cell-value-is-nan-in-pandas/#:~:text=One%20of%20the%20most%20common [Accessed 28 Dec. 2023]."
   ]
  },
  {
   "cell_type": "markdown",
   "id": "9e79e492",
   "metadata": {},
   "source": [
    "Vanawat, N. (2021). How To Perform Exploratory Data Analysis -A Guide for Beginners. [online] Analytics Vidhya. Available at: https://www.analyticsvidhya.com/blog/2021/08/how-to-perform-exploratory-data-analysis-a-guide-for-beginners/.\n",
    "    "
   ]
  }
 ],
 "metadata": {
  "kernelspec": {
   "display_name": "Python 3 (ipykernel)",
   "language": "python",
   "name": "python3"
  },
  "language_info": {
   "codemirror_mode": {
    "name": "ipython",
    "version": 3
   },
   "file_extension": ".py",
   "mimetype": "text/x-python",
   "name": "python",
   "nbconvert_exporter": "python",
   "pygments_lexer": "ipython3",
   "version": "3.9.7"
  }
 },
 "nbformat": 4,
 "nbformat_minor": 5
}
